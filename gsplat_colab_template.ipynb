{
  "cells": [
    {
      "cell_type": "markdown",
      "metadata": {
        "id": "tN-gy6eADESf"
      },
      "source": [
        "0. Upload your dataset in Google Drive and mount in Colab. (If you want to train your own dataset)\n",
        "1. Check if the selected GPU has CUDA."
      ]
    },
    {
      "cell_type": "code",
      "execution_count": null,
      "metadata": {
        "colab": {
          "base_uri": "https://localhost:8080/"
        },
        "collapsed": true,
        "id": "Jg-_TYBaJkcD",
        "outputId": "2901b9ad-327b-4510-922e-b7937822d999"
      },
      "outputs": [],
      "source": [
        "import torch\n",
        "\n",
        "if torch.cuda.is_available():\n",
        "    print(\"CUDA is available.\")\n",
        "    print(\"CUDA version:\", torch.version.cuda)\n",
        "    print(\"GPU:\", torch.cuda.get_device_name(0))\n",
        "else:\n",
        "    print(\"CUDA is not available.\")\n"
      ]
    },
    {
      "cell_type": "markdown",
      "metadata": {
        "id": "tkV-vde9DNu7"
      },
      "source": [
        "2. Clone Gaussian Splatting repository."
      ]
    },
    {
      "cell_type": "code",
      "execution_count": null,
      "metadata": {
        "colab": {
          "base_uri": "https://localhost:8080/"
        },
        "collapsed": true,
        "id": "WD3E6Y895tvm",
        "outputId": "d9f6fb3f-3692-42cc-a135-4540501ca817"
      },
      "outputs": [],
      "source": [
        "%cd /content\n",
        "!git clone --recursive https://github.com/camenduru/gaussian-splatting\n",
        "!pip install -q plyfile\n",
        "\n",
        "%cd /content/gaussian-splatting\n",
        "!pip install -q /content/gaussian-splatting/submodules/diff-gaussian-rasterization\n",
        "!pip install -q /content/gaussian-splatting/submodules/simple-knn"
      ]
    },
    {
      "cell_type": "markdown",
      "metadata": {
        "id": "RlR4DSAsDaBw"
      },
      "source": [
        "3. Fetch sample data. Optional if you have your own dataset and mounted it via Drive. Change the name of /images folder to /input. Ex: .../db/playroom/images => .../db/playroom/input"
      ]
    },
    {
      "cell_type": "code",
      "execution_count": null,
      "metadata": {
        "colab": {
          "base_uri": "https://localhost:8080/"
        },
        "collapsed": true,
        "id": "MolTSJ_g-VfQ",
        "outputId": "b108a1f0-7932-4e38-f110-9a8c099dac8c"
      },
      "outputs": [],
      "source": [
        "!wget https://huggingface.co/camenduru/gaussian-splatting/resolve/main/tandt_db.zip\n",
        "!unzip tandt_db.zip"
      ]
    },
    {
      "cell_type": "markdown",
      "metadata": {
        "id": "rYVvRWm4Surg"
      },
      "source": [
        "4. Install dependencies for COLMAP:"
      ]
    },
    {
      "cell_type": "code",
      "execution_count": null,
      "metadata": {
        "colab": {
          "base_uri": "https://localhost:8080/"
        },
        "collapsed": true,
        "id": "svceo2_SN5Si",
        "outputId": "66685192-a457-4b0f-a48c-937220375672"
      },
      "outputs": [],
      "source": [
        "!sudo apt-get install -y \\\n",
        "    git \\\n",
        "    cmake \\\n",
        "    ninja-build \\\n",
        "    build-essential \\\n",
        "    libboost-program-options-dev \\\n",
        "    libboost-filesystem-dev \\\n",
        "    libboost-graph-dev \\\n",
        "    libboost-system-dev \\\n",
        "    libboost-regex-dev \\\n",
        "    libboost-test-dev \\\n",
        "    libeigen3-dev \\\n",
        "    libflann-dev \\\n",
        "    libfreeimage-dev \\\n",
        "    libmetis-dev \\\n",
        "    libgoogle-glog-dev \\\n",
        "    libgtest-dev \\\n",
        "    libsqlite3-dev \\\n",
        "    libglew-dev \\\n",
        "    qtbase5-dev \\\n",
        "    libqt5opengl5-dev \\\n",
        "    libcgal-dev \\\n",
        "    libceres-dev \\\n",
        "    libsuitesparse-dev \\\n",
        "    libgflags-dev \\\n",
        "    libpng-dev \\\n",
        "    libjpeg-dev \\\n",
        "    libtiff-dev \\\n",
        "    libxxf86vm1 \\\n",
        "    libxxf86vm-dev \\\n",
        "    libxi-dev \\\n",
        "    libxrandr-dev"
      ]
    },
    {
      "cell_type": "markdown",
      "metadata": {
        "id": "Na1cmNkgSGVd"
      },
      "source": [
        "5. Build COLMAP. Takes ~30 minutes."
      ]
    },
    {
      "cell_type": "code",
      "execution_count": null,
      "metadata": {
        "colab": {
          "base_uri": "https://localhost:8080/"
        },
        "collapsed": true,
        "id": "JjKB3Ypu3HUC",
        "outputId": "7a72bb3e-d70b-4640-b469-33bb65fea669"
      },
      "outputs": [],
      "source": [
        "%cd /content\n",
        "!git clone https://github.com/colmap/colmap.git\n",
        "%cd colmap\n",
        "!mkdir build\n",
        "%cd build\n",
        "!cmake ..\n",
        "!make -j$(nproc)\n",
        "!sudo make install"
      ]
    },
    {
      "cell_type": "markdown",
      "metadata": {
        "id": "OiGPoXwqn5TU"
      },
      "source": [
        "6. Convert the dataset using COLMAP. <br />\n",
        "Change the path to your own dataset or use the sample if you just want to try things out."
      ]
    },
    {
      "cell_type": "code",
      "execution_count": null,
      "metadata": {
        "colab": {
          "base_uri": "https://localhost:8080/"
        },
        "collapsed": true,
        "id": "IIXgwEMT-L47",
        "outputId": "a19bca4b-5c5b-4f3e-fe4d-891d441080ec"
      },
      "outputs": [],
      "source": [
        "%cd /content/gaussian-splatting\n",
        "!python convert.py -s {path_to_dataset} #/content/gaussian-splatting/db/playroom"
      ]
    },
    {
      "cell_type": "markdown",
      "metadata": {
        "id": "IWqKVTVwsMca"
      },
      "source": [
        "7. Train the converted dataset."
      ]
    },
    {
      "cell_type": "code",
      "execution_count": null,
      "metadata": {
        "colab": {
          "base_uri": "https://localhost:8080/"
        },
        "collapsed": true,
        "id": "PopYnOqoKL6B",
        "outputId": "3943e51a-8665-4966-f03e-84f5a78303ca"
      },
      "outputs": [],
      "source": [
        "# Replace {path_to_dataset}\n",
        "# --save_iterations: arg for saved checkpoints. Set different number if you want.\n",
        "!python train.py -s {path_to_dataset} --iterations 30000 --save_iterations 10000 20000 30000   #/content/gaussian-splatting/db/playroom"
      ]
    },
    {
      "cell_type": "markdown",
      "metadata": {},
      "source": [
        "8. Download the .ply file in .../output/{sha}/point_cloud/{iteration_num}/point_cloud.py"
      ]
    }
  ],
  "metadata": {
    "accelerator": "GPU",
    "colab": {
      "gpuType": "T4",
      "provenance": []
    },
    "kernelspec": {
      "display_name": "Python 3",
      "name": "python3"
    },
    "language_info": {
      "name": "python"
    }
  },
  "nbformat": 4,
  "nbformat_minor": 0
}
